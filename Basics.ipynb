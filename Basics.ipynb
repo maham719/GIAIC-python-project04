{
  "nbformat": 4,
  "nbformat_minor": 0,
  "metadata": {
    "colab": {
      "provenance": [],
      "authorship_tag": "ABX9TyP89LLFdNtDcsxCJnsUENtp",
      "include_colab_link": true
    },
    "kernelspec": {
      "name": "python3",
      "display_name": "Python 3"
    },
    "language_info": {
      "name": "python"
    }
  },
  "cells": [
    {
      "cell_type": "markdown",
      "metadata": {
        "id": "view-in-github",
        "colab_type": "text"
      },
      "source": [
        "<a href=\"https://colab.research.google.com/github/maham719/GIAIC-python-project04/blob/main/Basics.ipynb\" target=\"_parent\"><img src=\"https://colab.research.google.com/assets/colab-badge.svg\" alt=\"Open In Colab\"/></a>"
      ]
    },
    {
      "cell_type": "markdown",
      "source": [
        "# **00_Joke_bot**"
      ],
      "metadata": {
        "id": "ACNllXu9qKPg"
      }
    },
    {
      "cell_type": "code",
      "execution_count": 4,
      "metadata": {
        "colab": {
          "base_uri": "https://localhost:8080/"
        },
        "id": "syY1UIcBp0pi",
        "outputId": "53f4c8ae-9761-4293-beab-28424f47c94a"
      },
      "outputs": [
        {
          "output_type": "stream",
          "name": "stdout",
          "text": [
            "What do you want?joke\n",
            "Sophia is heading out to the grocery store. A programmer tells her: get a liter of milk, and if they have eggs, get 12. Sophia returns with 13 liters of milk. The programmer asks why and Sophia replies: 'because they had eggs'\n"
          ]
        }
      ],
      "source": [
        "prompt:str=\"What do you want?\"\n",
        "joke:str=\"Sophia is heading out to the grocery store. A programmer tells her: get a liter of milk, and if they have eggs, get 12. Sophia returns with 13 liters of milk. The programmer asks why and Sophia replies: 'because they had eggs'\"\n",
        "sorry:str=\"sorry i only tell jokes !\"\n",
        "def joke_bot():\n",
        "  user_input=input(prompt)\n",
        "  user_input=user_input.strip().lower()\n",
        "  if \"joke\" in user_input:\n",
        "    print(joke)\n",
        "  else:\n",
        "    print(sorry)\n",
        "\n",
        "if __name__==\"__main__\":\n",
        "  joke_bot()"
      ]
    },
    {
      "cell_type": "markdown",
      "source": [
        "# **01_Double_it**"
      ],
      "metadata": {
        "id": "1A-15iTBsWLn"
      }
    },
    {
      "cell_type": "code",
      "source": [
        "\n",
        "def double_it():\n",
        "  user_value=int(input(\"Enter a number to double it : \"))\n",
        "  current_value=user_value *2\n",
        "  while current_value < 100:\n",
        "    print(current_value)\n",
        "    current_value=current_value*2\n",
        "  print(current_value)\n",
        "\n",
        "if __name__==\"__main__\":\n",
        "  double_it()"
      ],
      "metadata": {
        "colab": {
          "base_uri": "https://localhost:8080/"
        },
        "id": "r-SjTz_Xsa-K",
        "outputId": "674acfd6-b37b-40b0-ba35-d1a91578bf85"
      },
      "execution_count": 5,
      "outputs": [
        {
          "output_type": "stream",
          "name": "stdout",
          "text": [
            "Enter a number to double it : 4\n",
            "8\n",
            "16\n",
            "32\n",
            "64\n",
            "128\n"
          ]
        }
      ]
    },
    {
      "cell_type": "markdown",
      "source": [
        "# **02_liftoff**"
      ],
      "metadata": {
        "id": "9nfw1c7OsmW8"
      }
    },
    {
      "cell_type": "code",
      "source": [
        "import time\n",
        "print(\"spaceship that is about to launch\")\n",
        "def lift_off():\n",
        " for i in range(10):\n",
        "    print(10-i)\n",
        "    time.sleep(1)\n",
        " print(\"Lift off!\")\n",
        "\n",
        "\n",
        "\n",
        "if __name__ == \"__main__\":\n",
        "  lift_off()\n",
        ""
      ],
      "metadata": {
        "colab": {
          "base_uri": "https://localhost:8080/"
        },
        "id": "bYE4AOaosqA_",
        "outputId": "c3fb8e02-0da2-429f-b0ab-21c1f08be4ea"
      },
      "execution_count": 6,
      "outputs": [
        {
          "output_type": "stream",
          "name": "stdout",
          "text": [
            "spaceship that is about to launch\n",
            "10\n",
            "9\n",
            "8\n",
            "7\n",
            "6\n",
            "5\n",
            "4\n",
            "3\n",
            "2\n",
            "1\n",
            "Lift off!\n"
          ]
        }
      ]
    },
    {
      "cell_type": "markdown",
      "source": [
        "# **03_Guess_my_number**"
      ],
      "metadata": {
        "id": "I4dRIxr7s3ih"
      }
    },
    {
      "cell_type": "code",
      "source": [
        "\n",
        "import random\n",
        "\n",
        "def guess():\n",
        "    secret_number = random.randint(0, 99)\n",
        "    print(\"I am thinking of a number between 0 to 99....\")\n",
        "    user_guess = int(input(\"Enter a guess...\"))\n",
        "\n",
        "    while user_guess != secret_number:\n",
        "        if user_guess > secret_number:\n",
        "            print(\"Sorry, guess again... too high\")\n",
        "        elif user_guess < secret_number:\n",
        "            print(\"Sorry, guess again... too low\")\n",
        "        user_guess = int(input(\"Enter a new guess: \"))\n",
        "\n",
        "    print(\"Congrats! The number was: \" + str(secret_number))\n",
        "\n",
        "if __name__ == \"__main__\":\n",
        "    guess()\n"
      ],
      "metadata": {
        "id": "LgKfDh6Ns9eD"
      },
      "execution_count": null,
      "outputs": []
    },
    {
      "cell_type": "markdown",
      "source": [
        "# **04_Random_numbers**"
      ],
      "metadata": {
        "id": "sFCQ4hWWtGUP"
      }
    },
    {
      "cell_type": "code",
      "source": [
        "import random\n",
        "def random_number():\n",
        "  for i in range(10):\n",
        "    value=random.randint(1,100)\n",
        "    print(value)\n",
        "if __name__==\"__main__\":\n",
        "  random_number()"
      ],
      "metadata": {
        "colab": {
          "base_uri": "https://localhost:8080/"
        },
        "id": "cG7lVvw4tLRj",
        "outputId": "33d5d604-7ba3-42a5-a61f-beea0b43e765"
      },
      "execution_count": 8,
      "outputs": [
        {
          "output_type": "stream",
          "name": "stdout",
          "text": [
            "6\n",
            "12\n",
            "40\n",
            "52\n",
            "31\n",
            "78\n",
            "90\n",
            "91\n",
            "79\n",
            "43\n"
          ]
        }
      ]
    }
  ]
}