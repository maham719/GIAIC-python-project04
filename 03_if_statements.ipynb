{
  "nbformat": 4,
  "nbformat_minor": 0,
  "metadata": {
    "colab": {
      "provenance": [],
      "authorship_tag": "ABX9TyOLXpe+PZeeUSiAJIFCCI4Z",
      "include_colab_link": true
    },
    "kernelspec": {
      "name": "python3",
      "display_name": "Python 3"
    },
    "language_info": {
      "name": "python"
    }
  },
  "cells": [
    {
      "cell_type": "markdown",
      "metadata": {
        "id": "view-in-github",
        "colab_type": "text"
      },
      "source": [
        "<a href=\"https://colab.research.google.com/github/maham719/Project4/blob/main/03_if_statements.ipynb\" target=\"_parent\"><img src=\"https://colab.research.google.com/assets/colab-badge.svg\" alt=\"Open In Colab\"/></a>"
      ]
    },
    {
      "cell_type": "markdown",
      "source": [
        "# **01_print_events**"
      ],
      "metadata": {
        "id": "PIhyJrMUZMnp"
      }
    },
    {
      "cell_type": "code",
      "execution_count": 3,
      "metadata": {
        "colab": {
          "base_uri": "https://localhost:8080/"
        },
        "id": "522NMxFYYpK9",
        "outputId": "7033f054-7626-4f46-894f-9709c080dc28"
      },
      "outputs": [
        {
          "output_type": "stream",
          "name": "stdout",
          "text": [
            "this is a program to print even numbers in range of 20\n",
            "0\n",
            "2\n",
            "4\n",
            "6\n",
            "8\n",
            "10\n",
            "12\n",
            "14\n",
            "16\n",
            "18\n"
          ]
        }
      ],
      "source": [
        "def even_numbers():\n",
        "  print(\"this is a program to print even numbers in range of 20\")\n",
        "  for i in range(20):\n",
        "      if i%2==0:\n",
        "        print(i)\n",
        "\n",
        "if __name__ == \"__main__\":\n",
        "    even_numbers()"
      ]
    },
    {
      "cell_type": "markdown",
      "source": [
        "# **2_international_voting_age**"
      ],
      "metadata": {
        "id": "UfeoH7jYahxN"
      }
    },
    {
      "cell_type": "code",
      "source": [
        "Peturksbouipo_age:int=16\n",
        "Stanlau_age:int=25\n",
        "Mayengua_age=48\n",
        "def international_voting_age():\n",
        " print(\"This is a program to check user's age for voting\")\n",
        " user_age:int=int(input(\"How Old Are You?\"))\n",
        " if user_age >=Peturksbouipo_age:\n",
        "   print(f\"You can vote in Peturksbouipo where the voting age is {Peturksbouipo_age}\")\n",
        " else:\n",
        "   print(\"You can't vote in preturksbouipo\")\n",
        "\n",
        " if user_age >= Stanlau_age:\n",
        "  print(f\"You can vote in Stanlau where the voting age is {Stanlau_age}\")\n",
        " else:\n",
        "  print(\"You can't vote in Stanlau\")\n",
        "\n",
        " if user_age >=Mayengua_age:\n",
        "  print(f\"You can vote in Mayengua where the voting age is {Mayengua_age}\")\n",
        " else:\n",
        "  print(\"You can't vote in Mayengua\")\n",
        "\n",
        "if __name__ == \"__main__\":\n",
        "    international_voting_age()"
      ],
      "metadata": {
        "colab": {
          "base_uri": "https://localhost:8080/"
        },
        "id": "G3pmKopRajWE",
        "outputId": "151e57f2-cd3c-4b84-ca1e-b13f9c9a0366"
      },
      "execution_count": 4,
      "outputs": [
        {
          "output_type": "stream",
          "name": "stdout",
          "text": [
            "This is a program to check user's age for voting\n",
            "How Old Are You?25\n",
            "You can vote in Peturksbouipo where the voting age is 16\n",
            "You can vote in Stanlau where the voting age is 25\n",
            "You can't vote in Mayengua\n"
          ]
        }
      ]
    },
    {
      "cell_type": "markdown",
      "source": [
        "# **03_leap_year**"
      ],
      "metadata": {
        "id": "6ceeyb_JcsQj"
      }
    },
    {
      "cell_type": "code",
      "source": [
        "def leap_year():\n",
        "  user_input:int=int(input(\"Enter a year to check if it is a leap year:\"))\n",
        "  if user_input%4==0:\n",
        "    print(f\"{user_input} is a leap year\")\n",
        "  else:\n",
        "    print(f\"{user_input} is not a leap year\")\n",
        "\n",
        "if __name__ == \"__main__\":\n",
        "    leap_year()"
      ],
      "metadata": {
        "colab": {
          "base_uri": "https://localhost:8080/"
        },
        "id": "sSb9eogRcuRh",
        "outputId": "628ea0a0-3909-4992-aeaa-8f5d06928be2"
      },
      "execution_count": 6,
      "outputs": [
        {
          "output_type": "stream",
          "name": "stdout",
          "text": [
            "Enter a year to check if it is a leap year:2024\n",
            "2024 is a leap year\n"
          ]
        }
      ]
    },
    {
      "cell_type": "markdown",
      "source": [
        "# **04_tall_enough_to_ride**"
      ],
      "metadata": {
        "id": "tWRt0-SCddfg"
      }
    },
    {
      "cell_type": "code",
      "source": [
        "def height_check():\n",
        "  print(\"this is a program which checks if you're tall enough to ride\")\n",
        "  minimum_height:int=50\n",
        "  user_height:int=int(input(\"Enter your height in cm:\"))\n",
        "  if user_height >= minimum_height:\n",
        "    print(\"You're tall enough to ride\")\n",
        "  else:\n",
        "    print(\"You're not tall enough to ride maybe next year\")\n",
        "\n",
        "if __name__ == \"__main__\":\n",
        "    height_check()"
      ],
      "metadata": {
        "colab": {
          "base_uri": "https://localhost:8080/"
        },
        "id": "NJ2mLfDYdipv",
        "outputId": "1b4aedd2-e866-44aa-9db8-170f1f8d52ec"
      },
      "execution_count": 7,
      "outputs": [
        {
          "output_type": "stream",
          "name": "stdout",
          "text": [
            "this is a program which checks if you're tall enough to ride\n",
            "Enter your height in cm:100\n",
            "You're tall enough to ride\n"
          ]
        }
      ]
    },
    {
      "cell_type": "markdown",
      "source": [
        "# **05_random_numbers**"
      ],
      "metadata": {
        "id": "ks63aqGgebPl"
      }
    },
    {
      "cell_type": "code",
      "source": [
        "import random\n",
        "n_numbers:int=10\n",
        "min_value:int=1\n",
        "max_value:int=100\n",
        "def random_numbers():\n",
        "  random_numbers_list=[]\n",
        "  for i in range(n_numbers):\n",
        "    random_numbers_list.append(random.randint(min_value,max_value))\n",
        "  print(random_numbers_list)\n",
        "\n",
        "if __name__ == \"__main__\":\n",
        "    random_numbers()"
      ],
      "metadata": {
        "colab": {
          "base_uri": "https://localhost:8080/"
        },
        "id": "sj551uU-edWV",
        "outputId": "2b874980-785e-4214-bb78-dbbf06209204"
      },
      "execution_count": 8,
      "outputs": [
        {
          "output_type": "stream",
          "name": "stdout",
          "text": [
            "[19, 53, 42, 46, 23, 2, 18, 31, 6, 76]\n"
          ]
        }
      ]
    }
  ]
}