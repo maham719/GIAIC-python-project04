{
  "nbformat": 4,
  "nbformat_minor": 0,
  "metadata": {
    "colab": {
      "provenance": [],
      "authorship_tag": "ABX9TyPREUIlpH+fynaNMZWTx/yY",
      "include_colab_link": true
    },
    "kernelspec": {
      "name": "python3",
      "display_name": "Python 3"
    },
    "language_info": {
      "name": "python"
    }
  },
  "cells": [
    {
      "cell_type": "markdown",
      "metadata": {
        "id": "view-in-github",
        "colab_type": "text"
      },
      "source": [
        "<a href=\"https://colab.research.google.com/github/maham719/Project4/blob/main/Guess_the_Number_Game_Python_Project_(computer).ipynb\" target=\"_parent\"><img src=\"https://colab.research.google.com/assets/colab-badge.svg\" alt=\"Open In Colab\"/></a>"
      ]
    },
    {
      "cell_type": "code",
      "execution_count": 2,
      "metadata": {
        "colab": {
          "base_uri": "https://localhost:8080/"
        },
        "id": "4flY6HpiPj3y",
        "outputId": "c3739bf8-3668-4f97-8ff6-bf6cae2a8ab5"
      },
      "outputs": [
        {
          "output_type": "stream",
          "name": "stdout",
          "text": [
            "Guess a number between 1 and 10:2\n",
            "sorry , guess again , Too low\n",
            "Guess a number between 1 and 10:4\n",
            "sorry , guess again , Too low\n",
            "Guess a number between 1 and 10:5\n",
            "sorry , guess again , Too low\n",
            "Guess a number between 1 and 10:6\n",
            "sorry , guess again , Too low\n",
            "Guess a number between 1 and 10:7\n",
            "congratulations you have guessed the number 7 correctly!!! \n"
          ]
        }
      ],
      "source": [
        "import random\n",
        "\n",
        "def guess(x):\n",
        "  random_number=random.randint(1,x)\n",
        "  guess=0\n",
        "  while guess !=random_number:\n",
        "    guess=int(input(f\"Guess a number between 1 and {x}:\"))\n",
        "    if guess < random_number:\n",
        "      print(\"sorry , guess again , Too low\")\n",
        "    elif guess > random_number:\n",
        "      print(\"sorry , guess again , Too high\")\n",
        "  print(f\"congratulations you have guessed the number {random_number} correctly!!! \")\n",
        "\n",
        "if __name__==\"__main__\":\n",
        "  guess(10)"
      ]
    }
  ]
}