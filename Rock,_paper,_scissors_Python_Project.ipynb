{
  "nbformat": 4,
  "nbformat_minor": 0,
  "metadata": {
    "colab": {
      "provenance": [],
      "authorship_tag": "ABX9TyPSvt0hNbYKYkYwf4eZZ3Dk",
      "include_colab_link": true
    },
    "kernelspec": {
      "name": "python3",
      "display_name": "Python 3"
    },
    "language_info": {
      "name": "python"
    }
  },
  "cells": [
    {
      "cell_type": "markdown",
      "metadata": {
        "id": "view-in-github",
        "colab_type": "text"
      },
      "source": [
        "<a href=\"https://colab.research.google.com/github/maham719/Project4/blob/main/Rock%2C_paper%2C_scissors_Python_Project.ipynb\" target=\"_parent\"><img src=\"https://colab.research.google.com/assets/colab-badge.svg\" alt=\"Open In Colab\"/></a>"
      ]
    },
    {
      "cell_type": "code",
      "execution_count": 2,
      "metadata": {
        "colab": {
          "base_uri": "https://localhost:8080/"
        },
        "id": "_LLZUeygXFI2",
        "outputId": "65a602ed-bd04-494b-eb85-f1b49e0ed045"
      },
      "outputs": [
        {
          "output_type": "stream",
          "name": "stdout",
          "text": [
            " what's your choice? 'r' for rock , 'p' for paper and 's' for scissorss\n",
            "you won\n"
          ]
        }
      ],
      "source": [
        "import random\n",
        "def play():\n",
        "  user=input(\" what\\'s your choice? 'r' for rock , 'p' for paper and 's' for scissors\" )\n",
        "  computer=random.choice(['r','p','s'])\n",
        "  if user == computer:\n",
        "    return \"it\\'s a tie\"\n",
        "  if is_win(user,computer):\n",
        "    return 'you won'\n",
        "  return 'you lost'\n",
        "def is_win(player,opponent):\n",
        "  if(player=='r' and opponent=='s') or (player=='s' and opponent=='p')or (player=='p' and opponent=='r'):\n",
        "    return True\n",
        "\n",
        "if __name__ == '__main__':\n",
        "  print(play())"
      ]
    }
  ]
}