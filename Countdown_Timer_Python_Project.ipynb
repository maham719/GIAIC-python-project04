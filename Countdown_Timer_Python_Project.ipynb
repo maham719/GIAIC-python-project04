{
  "nbformat": 4,
  "nbformat_minor": 0,
  "metadata": {
    "colab": {
      "provenance": [],
      "authorship_tag": "ABX9TyM4kaWVVYbXOf3VC8NfM/8f",
      "include_colab_link": true
    },
    "kernelspec": {
      "name": "python3",
      "display_name": "Python 3"
    },
    "language_info": {
      "name": "python"
    }
  },
  "cells": [
    {
      "cell_type": "markdown",
      "metadata": {
        "id": "view-in-github",
        "colab_type": "text"
      },
      "source": [
        "<a href=\"https://colab.research.google.com/github/maham719/GIAIC-python-project04/blob/main/Countdown_Timer_Python_Project.ipynb\" target=\"_parent\"><img src=\"https://colab.research.google.com/assets/colab-badge.svg\" alt=\"Open In Colab\"/></a>"
      ]
    },
    {
      "cell_type": "code",
      "execution_count": 9,
      "metadata": {
        "colab": {
          "base_uri": "https://localhost:8080/"
        },
        "id": "PrwtJ5XfTgDq",
        "outputId": "6b58b353-ec6e-4bf1-e23a-d40e085d89a2"
      },
      "outputs": [
        {
          "output_type": "stream",
          "name": "stdout",
          "text": [
            "Enter the time in seconds: 5\n",
            "Timer stopped!\n"
          ]
        }
      ],
      "source": [
        "import time\n",
        "def count_down(t):\n",
        "  while t:\n",
        "    mins,secs=divmod(t,60)\n",
        "    timer='{:02d}:{:02d}'.format(mins,secs)\n",
        "    print(timer, end=\"\\r\")\n",
        "    time.sleep(1)\n",
        "    t -= 1\n",
        "  print(\"Timer stopped!\")\n",
        "t=input(\"Enter the time in seconds: \")\n",
        "count_down(int(t))\n",
        "\n"
      ]
    }
  ]
}