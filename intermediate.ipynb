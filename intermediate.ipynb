{
  "nbformat": 4,
  "nbformat_minor": 0,
  "metadata": {
    "colab": {
      "provenance": [],
      "authorship_tag": "ABX9TyPs2aq3eX0fxUpNzTd3QGXA",
      "include_colab_link": true
    },
    "kernelspec": {
      "name": "python3",
      "display_name": "Python 3"
    },
    "language_info": {
      "name": "python"
    }
  },
  "cells": [
    {
      "cell_type": "markdown",
      "metadata": {
        "id": "view-in-github",
        "colab_type": "text"
      },
      "source": [
        "<a href=\"https://colab.research.google.com/github/maham719/GIAIC-python-project04/blob/main/intermediate.ipynb\" target=\"_parent\"><img src=\"https://colab.research.google.com/assets/colab-badge.svg\" alt=\"Open In Colab\"/></a>"
      ]
    },
    {
      "cell_type": "markdown",
      "source": [
        "#   ***problem: High Low***"
      ],
      "metadata": {
        "id": "Sn3nNrOjvJcb"
      }
    },
    {
      "cell_type": "code",
      "source": [
        "import random\n",
        "rounds=5\n",
        "def higher_lower():\n",
        "  print(\"Welcome to the High-Low Game!\")\n",
        "  your_score=0\n",
        "  for i in range(rounds):\n",
        "    print(\"Round\",i+1)\n",
        "    computer_number=random.randint(1,100)\n",
        "    your_number=random.randint(1,100)\n",
        "    print(\"your num is \" , your_number)\n",
        "    choice=input(\"Do you think your number is higher or lower than the computer\\'s? (higehr/lower): \")\n",
        "    while choice !=\"higher\" and choice != \"lower\":\n",
        "      print(\"Invalid input. Please enter 'higher' or 'lower'.\")\n",
        "\n",
        "    higher_and_correct= choice==\"higher\" and your_number>computer_number\n",
        "    lower_and_correct=choice==\"lower\" and your_number<computer_number\n",
        "    if higher_and_correct or lower_and_correct:\n",
        "      print(\"You were right! the computer\\'s number was\",computer_number)\n",
        "      your_score+=1\n",
        "    else:\n",
        "      print(\"Aww, that's incorrect. The computer's number was\", computer_number)\n",
        "\n",
        "    print(\"Your score is now\", your_score)\n",
        "    print()\n",
        "  print(\"Your final score is\", your_score)\n",
        "  if your_score==rounds:\n",
        "    print(\"Wow! You played well...\")\n",
        "  elif your_score>rounds:\n",
        "    print(\"Good job, you played really well!\")\n",
        "  else:\n",
        "    print(\"Better luck next time!\")\n",
        "\n",
        "if __name__==\"__main__\":\n",
        "  higher_lower()"
      ],
      "metadata": {
        "colab": {
          "base_uri": "https://localhost:8080/"
        },
        "collapsed": true,
        "id": "sGAgoxjHvX8R",
        "outputId": "13e4fb6c-396a-4f74-d0e0-7c94ea8d50b9"
      },
      "execution_count": 2,
      "outputs": [
        {
          "output_type": "stream",
          "name": "stdout",
          "text": [
            "Welcome to the High-Low Game!\n",
            "Round 1\n",
            "your num is  96\n",
            "Do you think your number is higher or lower than the computer's? (higehr/lower): higher\n",
            "You were right! the computer's number was 62\n",
            "Your score is now 1\n",
            "\n",
            "Round 2\n",
            "your num is  1\n",
            "Do you think your number is higher or lower than the computer's? (higehr/lower): lower\n",
            "You were right! the computer's number was 33\n",
            "Your score is now 2\n",
            "\n",
            "Round 3\n",
            "your num is  34\n",
            "Do you think your number is higher or lower than the computer's? (higehr/lower): higher\n",
            "Aww, that's incorrect. The computer's number was 47\n",
            "Your score is now 2\n",
            "\n",
            "Round 4\n",
            "your num is  86\n",
            "Do you think your number is higher or lower than the computer's? (higehr/lower): lower\n",
            "Aww, that's incorrect. The computer's number was 46\n",
            "Your score is now 2\n",
            "\n",
            "Round 5\n",
            "your num is  28\n",
            "Do you think your number is higher or lower than the computer's? (higehr/lower): lower\n",
            "You were right! the computer's number was 47\n",
            "Your score is now 3\n",
            "\n",
            "Your final score is 3\n",
            "Better luck next time!\n"
          ]
        }
      ]
    },
    {
      "cell_type": "markdown",
      "source": [
        "# ***Problem: Planetary Weight Calculator***\n"
      ],
      "metadata": {
        "id": "zlrsi_2jRMF5"
      }
    },
    {
      "cell_type": "code",
      "source": [
        "def planetary_weight_calculator():\n",
        "  MERCURY_GRAVITY = 0.376\n",
        "  VENUS_GRAVITY = 0.889\n",
        "  MARS_GRAVITY = 0.378\n",
        "  JUPITER_GRAVITY = 2.36\n",
        "  SATURN_GRAVITY = 1.081\n",
        "  URANUS_GRAVITY = 0.815\n",
        "  NEPTUNE_GRAVITY = 1.14\n",
        "  EARTH_GRAVITY = 1.0\n",
        "  gravity_constant=None\n",
        "  print(\"Welcome to the Planetary Weight Calculator!\")\n",
        "  earth_weight=input(\"Enter your weight on Earth : \")\n",
        "  earth_weight=float(earth_weight)\n",
        "  planet = input(\"Enter a planet (first letter should be capital): \")\n",
        "  if planet==\"Mercury\":\n",
        "    gravity_constant=MERCURY_GRAVITY\n",
        "  elif planet == \"Venus\":\n",
        "    gravity_constant=VENUS_GRAVITY\n",
        "  elif planet == \"Mars\":\n",
        "    gravity_constant=MARS_GRAVITY\n",
        "  elif planet == \"Jupiter\":\n",
        "    gravity_constant=JUPITER_GRAVITY\n",
        "  elif planet == \"Saturn\":\n",
        "    gravity_constant=SATURN_GRAVITY\n",
        "  elif planet == \"Uranus\":\n",
        "    gravity_constant=URANUS_GRAVITY\n",
        "  elif planet == \"Neptune\":\n",
        "    gravity_constant=NEPTUNE_GRAVITY\n",
        "\n",
        "  if gravity_constant is not None:\n",
        "    planetary_weight=earth_weight*gravity_constant\n",
        "    rounded_planetary_weight=round(planetary_weight,2)\n",
        "    print(f\"Your weight on {planet} is {rounded_planetary_weight}\")\n",
        "    print(\"Thank you for using the Planetary Weight Calculator!\")\n",
        "  else:\n",
        "    print(\"Invalid planet. Please enter a valid planet name.\")\n",
        "\n",
        "if __name__==\"__main__\":\n",
        "  planetary_weight_calculator()\n",
        "\n"
      ],
      "metadata": {
        "colab": {
          "base_uri": "https://localhost:8080/"
        },
        "id": "IUW8kqLMRiBY",
        "outputId": "e6d5407a-abdd-418f-a32e-f19dd38d6475"
      },
      "execution_count": 16,
      "outputs": [
        {
          "output_type": "stream",
          "name": "stdout",
          "text": [
            "Welcome to the Planetary Weight Calculator!\n",
            "Enter your weight on Earth : 60\n",
            "Enter a planet (first letter should be capital): mars\n",
            "Invalid planet. Please enter a valid planet name.\n"
          ]
        }
      ]
    },
    {
      "cell_type": "markdown",
      "source": [
        "# ***Problem 1: List Practice***"
      ],
      "metadata": {
        "id": "MfgyfygBaQei"
      }
    },
    {
      "cell_type": "code",
      "source": [
        "def fruit_list():\n",
        "  fruits=[\"apple\",\"mango\",\"banana\",\"orange\",\"grape\",\"pineapple\"]\n",
        "  print(\"fruits list\",fruits)\n",
        "  fruits.append(\"kiwi\")\n",
        "  print(\"updated list\",fruits)\n",
        "\n",
        "if __name__==\"__main__\":\n",
        "  fruit_list()"
      ],
      "metadata": {
        "id": "r6DSYY1Taawp",
        "outputId": "27b12ccc-47fd-4c46-bd19-3caeea5d99ed",
        "colab": {
          "base_uri": "https://localhost:8080/"
        }
      },
      "execution_count": 17,
      "outputs": [
        {
          "output_type": "stream",
          "name": "stdout",
          "text": [
            "fruits list ['apple', 'mango', 'banana', 'orange', 'grape', 'pineapple']\n",
            "updated list ['apple', 'mango', 'banana', 'orange', 'grape', 'pineapple', 'kiwi']\n"
          ]
        }
      ]
    },
    {
      "cell_type": "markdown",
      "source": [
        "# ***Problem 2: Index Game***"
      ],
      "metadata": {
        "id": "WhRmqp6dbVch"
      }
    },
    {
      "cell_type": "code",
      "source": [
        "def access_element(list,index):\n",
        "  try:\n",
        "    return list[index]\n",
        "  except IndexError:\n",
        "    return \"Index out of range\"\n",
        "\n",
        "def modify_element(list,index,new_value):\n",
        "  try:\n",
        "    list[index]=new_value\n",
        "    return list\n",
        "  except IndexError:\n",
        "    return \"Index out of range\"\n",
        "def slice_list(list,start,end):\n",
        "  try:\n",
        "    return list[start:end]\n",
        "  except IndexError:\n",
        "    return \"Invalic indices\"\n",
        "def index_game():\n",
        "  list=[\"apple\" ,\"mango\",\"banana\",\"orange\",\"grapes\"]\n",
        "  print(\"current list\",list)\n",
        "  print(\"Choose an operation to perform : access , modify , slice\")\n",
        "  operation=input(\"Enter operation : \")\n",
        "  if operation == \"access\":\n",
        "    index = int(input(\"Enter index to access: \"))\n",
        "    print(access_element(list,index))\n",
        "  elif operation == \"modify\":\n",
        "    index = int(input(\"Enter index to access: \"))\n",
        "    new_value = input(\"Enter new value: \")\n",
        "    print(modify_element(list,index,new_value))\n",
        "  elif operation == \"slice\":\n",
        "        start = int(input(\"Enter start index: \"))\n",
        "        end = int(input(\"Enter end index: \"))\n",
        "        print(slice_list(list, start, end))\n",
        "  else:\n",
        "        print(\"Invalid operation.\")\n",
        "\n",
        "if __name__==\"__main__\":\n",
        "  index_game()"
      ],
      "metadata": {
        "id": "q7C0erwtbi8X",
        "outputId": "4f805287-beb9-4cd3-fe84-ee562edd3dc3",
        "colab": {
          "base_uri": "https://localhost:8080/"
        }
      },
      "execution_count": 20,
      "outputs": [
        {
          "output_type": "stream",
          "name": "stdout",
          "text": [
            "current list ['apple', 'mango', 'banana', 'orange', 'grapes']\n",
            "Choose an operation to perform : access , modify , slice\n",
            "Enter operation : access\n",
            "Enter index to access: 1\n",
            "mango\n"
          ]
        }
      ]
    }
  ]
}