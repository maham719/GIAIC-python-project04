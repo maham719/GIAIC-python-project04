{
  "nbformat": 4,
  "nbformat_minor": 0,
  "metadata": {
    "colab": {
      "provenance": [],
      "authorship_tag": "ABX9TyMOPHo5axMDQir9fviXEpUM",
      "include_colab_link": true
    },
    "kernelspec": {
      "name": "python3",
      "display_name": "Python 3"
    },
    "language_info": {
      "name": "python"
    }
  },
  "cells": [
    {
      "cell_type": "markdown",
      "metadata": {
        "id": "view-in-github",
        "colab_type": "text"
      },
      "source": [
        "<a href=\"https://colab.research.google.com/github/maham719/Project4/blob/main/Guess_the_Number_Game_Python_Project_(user).ipynb\" target=\"_parent\"><img src=\"https://colab.research.google.com/assets/colab-badge.svg\" alt=\"Open In Colab\"/></a>"
      ]
    },
    {
      "cell_type": "code",
      "execution_count": 1,
      "metadata": {
        "colab": {
          "base_uri": "https://localhost:8080/"
        },
        "id": "b087m3CfTRz2",
        "outputId": "3e9d9a49-2bc9-4208-abda-706235e4ffd9"
      },
      "outputs": [
        {
          "output_type": "stream",
          "name": "stdout",
          "text": [
            " is 10 too hig (H) ,too low (L) or correct (c)?h\n",
            " is 9 too hig (H) ,too low (L) or correct (c)?h\n",
            " is 5 too hig (H) ,too low (L) or correct (c)?l\n",
            " is 6 too hig (H) ,too low (L) or correct (c)?c\n",
            "yay! the computer guessed 6 correctly\n"
          ]
        }
      ],
      "source": [
        "import random\n",
        "def computer_guess(x):\n",
        "  low=1\n",
        "  high=x\n",
        "  feedback=''\n",
        "  while feedback != 'c':\n",
        "    if low != high:\n",
        "      guess=random.randint(low,high)\n",
        "    else:\n",
        "      guess=low\n",
        "    feedback=input(f\" is {guess} too hig (H) ,too low (L) or correct (c)?\").lower()\n",
        "    if feedback == 'h':\n",
        "      high = guess-1\n",
        "    elif feedback =='l':\n",
        "      low= guess+1\n",
        "  print(f\"yay! the computer guessed {guess} correctly\")\n",
        "computer_guess(10)"
      ]
    }
  ]
}