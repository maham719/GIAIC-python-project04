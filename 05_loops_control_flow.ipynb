{
  "nbformat": 4,
  "nbformat_minor": 0,
  "metadata": {
    "colab": {
      "provenance": [],
      "authorship_tag": "ABX9TyOMvOqWx4kPePXeRJvmEVGH",
      "include_colab_link": true
    },
    "kernelspec": {
      "name": "python3",
      "display_name": "Python 3"
    },
    "language_info": {
      "name": "python"
    }
  },
  "cells": [
    {
      "cell_type": "markdown",
      "metadata": {
        "id": "view-in-github",
        "colab_type": "text"
      },
      "source": [
        "<a href=\"https://colab.research.google.com/github/maham719/GIAIC-python-project04/blob/main/05_loops_control_flow.ipynb\" target=\"_parent\"><img src=\"https://colab.research.google.com/assets/colab-badge.svg\" alt=\"Open In Colab\"/></a>"
      ]
    },
    {
      "cell_type": "markdown",
      "source": [
        "# **00_guess_my_number**"
      ],
      "metadata": {
        "id": "SJO-ggMOVCwl"
      }
    },
    {
      "cell_type": "code",
      "execution_count": 2,
      "metadata": {
        "colab": {
          "base_uri": "https://localhost:8080/"
        },
        "collapsed": true,
        "id": "rq3SZ3zBU9c7",
        "outputId": "098b5e53-6ecb-4698-e3f1-7589e2500891"
      },
      "outputs": [
        {
          "output_type": "stream",
          "name": "stdout",
          "text": [
            "I am thinking of a number between 0 to 99....\n",
            "Enter a guess...9\n",
            "Sorry, guess again... too low\n",
            "Enter a new guess: 10\n",
            "Sorry, guess again... too low\n",
            "Enter a new guess: 89\n",
            "Sorry, guess again... too high\n",
            "Enter a new guess: 87\n",
            "Sorry, guess again... too high\n",
            "Enter a new guess: 70\n",
            "Sorry, guess again... too high\n",
            "Enter a new guess: 60\n",
            "Sorry, guess again... too high\n",
            "Enter a new guess: 50\n",
            "Sorry, guess again... too high\n",
            "Enter a new guess: 40\n",
            "Sorry, guess again... too low\n",
            "Enter a new guess: 45\n",
            "Sorry, guess again... too low\n",
            "Enter a new guess: 46\n",
            "Sorry, guess again... too low\n",
            "Enter a new guess: 47\n",
            "Congrats! The number was: 47\n"
          ]
        }
      ],
      "source": [
        "import random\n",
        "\n",
        "def guess():\n",
        "    secret_number = random.randint(0, 99)\n",
        "    print(\"I am thinking of a number between 0 to 99....\")\n",
        "    user_guess = int(input(\"Enter a guess...\"))\n",
        "\n",
        "    while user_guess != secret_number:\n",
        "        if user_guess > secret_number:\n",
        "            print(\"Sorry, guess again... too high\")\n",
        "        elif user_guess < secret_number:\n",
        "            print(\"Sorry, guess again... too low\")\n",
        "        user_guess = int(input(\"Enter a new guess: \"))\n",
        "\n",
        "    print(\"Congrats! The number was: \" + str(secret_number))\n",
        "\n",
        "if __name__ == \"__main__\":\n",
        "    guess()\n"
      ]
    },
    {
      "cell_type": "markdown",
      "source": [
        "# **01_fibonacci**"
      ],
      "metadata": {
        "id": "O1GJbLBkhh4O"
      }
    },
    {
      "cell_type": "code",
      "source": [
        "max_term:int=1000\n",
        "def fibonacci():\n",
        "  current_term=0\n",
        "  next_term=1\n",
        "  while current_term <= max_term:\n",
        "    print(current_term)\n",
        "    term_after_next=current_term+next_term\n",
        "    current_term=next_term\n",
        "    next_term=term_after_next\n",
        "\n",
        "if __name__ == \"__main__\":\n",
        "  fibonacci()"
      ],
      "metadata": {
        "colab": {
          "base_uri": "https://localhost:8080/"
        },
        "collapsed": true,
        "id": "fxW6T7Cthj6W",
        "outputId": "be660dc4-60be-43bd-c3b2-5a8a8d718477"
      },
      "execution_count": 3,
      "outputs": [
        {
          "output_type": "stream",
          "name": "stdout",
          "text": [
            "0\n",
            "1\n",
            "1\n",
            "2\n",
            "3\n",
            "5\n",
            "8\n",
            "13\n",
            "21\n",
            "34\n",
            "55\n",
            "89\n",
            "144\n",
            "233\n",
            "377\n",
            "610\n",
            "987\n"
          ]
        }
      ]
    },
    {
      "cell_type": "markdown",
      "source": [
        "# **02_print_events**"
      ],
      "metadata": {
        "id": "VcjJiH7xiwck"
      }
    },
    {
      "cell_type": "code",
      "source": [
        "def evens():\n",
        "  for i in range(0,40):\n",
        "    if i%2==0:\n",
        "      print(i)\n",
        "\n",
        "if __name__ == \"__main__\":\n",
        "  evens()"
      ],
      "metadata": {
        "colab": {
          "base_uri": "https://localhost:8080/"
        },
        "collapsed": true,
        "id": "ElLjqHz9i2Dy",
        "outputId": "26f1249f-f9d8-4e93-fde0-e3c648c88b6f"
      },
      "execution_count": 7,
      "outputs": [
        {
          "output_type": "stream",
          "name": "stdout",
          "text": [
            "0\n",
            "2\n",
            "4\n",
            "6\n",
            "8\n",
            "10\n",
            "12\n",
            "14\n",
            "16\n",
            "18\n",
            "20\n",
            "22\n",
            "24\n",
            "26\n",
            "28\n",
            "30\n",
            "32\n",
            "34\n",
            "36\n",
            "38\n"
          ]
        }
      ]
    },
    {
      "cell_type": "markdown",
      "source": [
        "# **03_wholesome_machine**"
      ],
      "metadata": {
        "id": "ozIMq3kZja3r"
      }
    },
    {
      "cell_type": "code",
      "source": [
        "AFFIRMATION : str = \"I am capable of doing anything I put my mind to.\"\n",
        "def affir():\n",
        "  print(\"please type the following affirmation : \" +  AFFIRMATION)\n",
        "  user_feedback=input()\n",
        "  while user_feedback != AFFIRMATION:\n",
        "    print(\"That was not the affiramtion\")\n",
        "    print(\"Please type the following affirmation:  \" + AFFIRMATION)\n",
        "    user_feedback = input()\n",
        "  print(\"That's right! :)\")\n",
        "\n",
        "if __name__ == \"__main__\":\n",
        "  affir()"
      ],
      "metadata": {
        "colab": {
          "base_uri": "https://localhost:8080/",
          "height": 391
        },
        "collapsed": true,
        "id": "r6-9E96Sjcbi",
        "outputId": "cb8f5827-3597-481f-c8bc-5d93fa974f86"
      },
      "execution_count": 11,
      "outputs": [
        {
          "output_type": "stream",
          "name": "stdout",
          "text": [
            "please type the following affirmation : I am capable of doing anything I put my mind to.\n",
            "I am capable of doing anything I put my mind to\n",
            "That was not the affiramtion\n",
            "Please type the following affirmation:  I am capable of doing anything I put my mind to.\n"
          ]
        },
        {
          "output_type": "error",
          "ename": "KeyboardInterrupt",
          "evalue": "Interrupted by user",
          "traceback": [
            "\u001b[0;31m---------------------------------------------------------------------------\u001b[0m",
            "\u001b[0;31mKeyboardInterrupt\u001b[0m                         Traceback (most recent call last)",
            "\u001b[0;32m<ipython-input-11-8ccefe739188>\u001b[0m in \u001b[0;36m<cell line: 0>\u001b[0;34m()\u001b[0m\n\u001b[1;32m     10\u001b[0m \u001b[0;34m\u001b[0m\u001b[0m\n\u001b[1;32m     11\u001b[0m \u001b[0;32mif\u001b[0m \u001b[0m__name__\u001b[0m \u001b[0;34m==\u001b[0m \u001b[0;34m\"__main__\"\u001b[0m\u001b[0;34m:\u001b[0m\u001b[0;34m\u001b[0m\u001b[0;34m\u001b[0m\u001b[0m\n\u001b[0;32m---> 12\u001b[0;31m   \u001b[0maffir\u001b[0m\u001b[0;34m(\u001b[0m\u001b[0;34m)\u001b[0m\u001b[0;34m\u001b[0m\u001b[0;34m\u001b[0m\u001b[0m\n\u001b[0m",
            "\u001b[0;32m<ipython-input-11-8ccefe739188>\u001b[0m in \u001b[0;36maffir\u001b[0;34m()\u001b[0m\n\u001b[1;32m      6\u001b[0m     \u001b[0mprint\u001b[0m\u001b[0;34m(\u001b[0m\u001b[0;34m\"That was not the affiramtion\"\u001b[0m\u001b[0;34m)\u001b[0m\u001b[0;34m\u001b[0m\u001b[0;34m\u001b[0m\u001b[0m\n\u001b[1;32m      7\u001b[0m     \u001b[0mprint\u001b[0m\u001b[0;34m(\u001b[0m\u001b[0;34m\"Please type the following affirmation:  \"\u001b[0m \u001b[0;34m+\u001b[0m \u001b[0mAFFIRMATION\u001b[0m\u001b[0;34m)\u001b[0m\u001b[0;34m\u001b[0m\u001b[0;34m\u001b[0m\u001b[0m\n\u001b[0;32m----> 8\u001b[0;31m     \u001b[0muser_feedback\u001b[0m \u001b[0;34m=\u001b[0m \u001b[0minput\u001b[0m\u001b[0;34m(\u001b[0m\u001b[0;34m)\u001b[0m\u001b[0;34m\u001b[0m\u001b[0;34m\u001b[0m\u001b[0m\n\u001b[0m\u001b[1;32m      9\u001b[0m   \u001b[0mprint\u001b[0m\u001b[0;34m(\u001b[0m\u001b[0;34m\"That's right! :)\"\u001b[0m\u001b[0;34m)\u001b[0m\u001b[0;34m\u001b[0m\u001b[0;34m\u001b[0m\u001b[0m\n\u001b[1;32m     10\u001b[0m \u001b[0;34m\u001b[0m\u001b[0m\n",
            "\u001b[0;32m/usr/local/lib/python3.11/dist-packages/ipykernel/kernelbase.py\u001b[0m in \u001b[0;36mraw_input\u001b[0;34m(self, prompt)\u001b[0m\n\u001b[1;32m   1175\u001b[0m                 \u001b[0;34m\"raw_input was called, but this frontend does not support input requests.\"\u001b[0m\u001b[0;34m\u001b[0m\u001b[0;34m\u001b[0m\u001b[0m\n\u001b[1;32m   1176\u001b[0m             )\n\u001b[0;32m-> 1177\u001b[0;31m         return self._input_request(\n\u001b[0m\u001b[1;32m   1178\u001b[0m             \u001b[0mstr\u001b[0m\u001b[0;34m(\u001b[0m\u001b[0mprompt\u001b[0m\u001b[0;34m)\u001b[0m\u001b[0;34m,\u001b[0m\u001b[0;34m\u001b[0m\u001b[0;34m\u001b[0m\u001b[0m\n\u001b[1;32m   1179\u001b[0m             \u001b[0mself\u001b[0m\u001b[0;34m.\u001b[0m\u001b[0m_parent_ident\u001b[0m\u001b[0;34m[\u001b[0m\u001b[0;34m\"shell\"\u001b[0m\u001b[0;34m]\u001b[0m\u001b[0;34m,\u001b[0m\u001b[0;34m\u001b[0m\u001b[0;34m\u001b[0m\u001b[0m\n",
            "\u001b[0;32m/usr/local/lib/python3.11/dist-packages/ipykernel/kernelbase.py\u001b[0m in \u001b[0;36m_input_request\u001b[0;34m(self, prompt, ident, parent, password)\u001b[0m\n\u001b[1;32m   1217\u001b[0m             \u001b[0;32mexcept\u001b[0m \u001b[0mKeyboardInterrupt\u001b[0m\u001b[0;34m:\u001b[0m\u001b[0;34m\u001b[0m\u001b[0;34m\u001b[0m\u001b[0m\n\u001b[1;32m   1218\u001b[0m                 \u001b[0;31m# re-raise KeyboardInterrupt, to truncate traceback\u001b[0m\u001b[0;34m\u001b[0m\u001b[0;34m\u001b[0m\u001b[0m\n\u001b[0;32m-> 1219\u001b[0;31m                 \u001b[0;32mraise\u001b[0m \u001b[0mKeyboardInterrupt\u001b[0m\u001b[0;34m(\u001b[0m\u001b[0;34m\"Interrupted by user\"\u001b[0m\u001b[0;34m)\u001b[0m \u001b[0;32mfrom\u001b[0m \u001b[0;32mNone\u001b[0m\u001b[0;34m\u001b[0m\u001b[0;34m\u001b[0m\u001b[0m\n\u001b[0m\u001b[1;32m   1220\u001b[0m             \u001b[0;32mexcept\u001b[0m \u001b[0mException\u001b[0m\u001b[0;34m:\u001b[0m\u001b[0;34m\u001b[0m\u001b[0;34m\u001b[0m\u001b[0m\n\u001b[1;32m   1221\u001b[0m                 \u001b[0mself\u001b[0m\u001b[0;34m.\u001b[0m\u001b[0mlog\u001b[0m\u001b[0;34m.\u001b[0m\u001b[0mwarning\u001b[0m\u001b[0;34m(\u001b[0m\u001b[0;34m\"Invalid Message:\"\u001b[0m\u001b[0;34m,\u001b[0m \u001b[0mexc_info\u001b[0m\u001b[0;34m=\u001b[0m\u001b[0;32mTrue\u001b[0m\u001b[0;34m)\u001b[0m\u001b[0;34m\u001b[0m\u001b[0;34m\u001b[0m\u001b[0m\n",
            "\u001b[0;31mKeyboardInterrupt\u001b[0m: Interrupted by user"
          ]
        }
      ]
    },
    {
      "cell_type": "markdown",
      "source": [
        "# **04_liftoff**"
      ],
      "metadata": {
        "id": "PzvZWWj1k4CZ"
      }
    },
    {
      "cell_type": "code",
      "source": [
        "import time\n",
        "print(\"spaceship that is about to launch\")\n",
        "def lift_off():\n",
        " for i in range(10):\n",
        "    print(10-i)\n",
        "    time.sleep(1)\n",
        " print(\"Lift off!\")\n",
        "\n",
        "\n",
        "\n",
        "if __name__ == \"__main__\":\n",
        "  lift_off()"
      ],
      "metadata": {
        "colab": {
          "base_uri": "https://localhost:8080/"
        },
        "collapsed": true,
        "id": "aAiiTlH3lBcO",
        "outputId": "fa664d33-33d1-4a96-880b-a68e8fe7e9fd"
      },
      "execution_count": 20,
      "outputs": [
        {
          "output_type": "stream",
          "name": "stdout",
          "text": [
            "spaceship that is about to launch\n",
            "10\n",
            "9\n",
            "8\n",
            "7\n",
            "6\n",
            "5\n",
            "4\n",
            "3\n",
            "2\n",
            "1\n",
            "Lift off!\n"
          ]
        }
      ]
    },
    {
      "cell_type": "markdown",
      "source": [
        "# **05_double_it**"
      ],
      "metadata": {
        "id": "UrnaWDOunB02"
      }
    },
    {
      "cell_type": "code",
      "source": [
        "def double_it():\n",
        "  user_value=int(input(\"Enter a number to double it : \"))\n",
        "  current_value=user_value *2\n",
        "  while current_value < 100:\n",
        "    print(current_value)\n",
        "    current_value=current_value*2\n",
        "  print(current_value)\n",
        "\n",
        "if __name__==\"__main__\":\n",
        "  double_it()"
      ],
      "metadata": {
        "colab": {
          "base_uri": "https://localhost:8080/"
        },
        "id": "BtuvvDGgnEZR",
        "outputId": "f84a93e7-a936-44d6-8625-2938601eea49"
      },
      "execution_count": 21,
      "outputs": [
        {
          "output_type": "stream",
          "name": "stdout",
          "text": [
            "Enter a number to double it : 2\n",
            "4\n",
            "8\n",
            "16\n",
            "32\n",
            "64\n",
            "128\n"
          ]
        }
      ]
    }
  ]
}