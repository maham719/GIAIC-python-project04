{
  "nbformat": 4,
  "nbformat_minor": 0,
  "metadata": {
    "colab": {
      "provenance": [],
      "authorship_tag": "ABX9TyPd2LvE+MxOIVbj0KIUrYq9",
      "include_colab_link": true
    },
    "kernelspec": {
      "name": "python3",
      "display_name": "Python 3"
    },
    "language_info": {
      "name": "python"
    }
  },
  "cells": [
    {
      "cell_type": "markdown",
      "metadata": {
        "id": "view-in-github",
        "colab_type": "text"
      },
      "source": [
        "<a href=\"https://colab.research.google.com/github/maham719/GIAIC-python-project04/blob/main/04_dictionaries.ipynb\" target=\"_parent\"><img src=\"https://colab.research.google.com/assets/colab-badge.svg\" alt=\"Open In Colab\"/></a>"
      ]
    },
    {
      "cell_type": "markdown",
      "source": [
        "# **00_count_nums**"
      ],
      "metadata": {
        "id": "sWOGwXY_ff0F"
      }
    },
    {
      "cell_type": "code",
      "execution_count": 3,
      "metadata": {
        "colab": {
          "base_uri": "https://localhost:8080/"
        },
        "id": "EOPkbUrGfcui",
        "outputId": "413e77c5-e2f1-4371-a6ea-38ed965f0ef1"
      },
      "outputs": [
        {
          "output_type": "stream",
          "name": "stdout",
          "text": [
            "Enter a number: 5\n",
            "Enter a number: 5\n",
            "Enter a number: 6\n",
            "Enter a number: 5\n",
            "Enter a number: 6\n",
            "Enter a number: 8\n",
            "Enter a number: 2\n",
            "Enter a number: 2\n",
            "Enter a number: 2\n",
            "Enter a number: \n",
            "5 appears 3 times\n",
            "6 appears 2 times\n",
            "8 appears 1 times\n",
            "2 appears 3 times\n"
          ]
        }
      ],
      "source": [
        "def get_user_numbers():\n",
        "  user_numbers=[]\n",
        "  while True:\n",
        "    user_input=input(\"Enter a number: \")\n",
        "    if user_input == \"\":\n",
        "      break\n",
        "    num=int(user_input)\n",
        "    user_numbers.append(num)\n",
        "  return user_numbers\n",
        "\n",
        "def count_numbers(num_list):\n",
        "  num_dict={}\n",
        "  for num in num_list:\n",
        "    if num not in num_dict:\n",
        "      num_dict[num]=1\n",
        "    else:\n",
        "      num_dict[num] +=1\n",
        "  return num_dict\n",
        "\n",
        "def print_counts(num_dict):\n",
        "  for num in num_dict:\n",
        "    print(f\"{num} appears {num_dict[num]} times\" )\n",
        "\n",
        "def count():\n",
        "  user_numbers=get_user_numbers()\n",
        "  num_dict=count_numbers(user_numbers)\n",
        "  print_counts(num_dict)\n",
        "\n",
        "if __name__ == \"__main__\":\n",
        "  count()\n"
      ]
    },
    {
      "cell_type": "markdown",
      "source": [
        "# **01_phonebook**"
      ],
      "metadata": {
        "id": "yP7ATPQTcqOw"
      }
    },
    {
      "cell_type": "code",
      "source": [
        "def read_phone_numbers():\n",
        "  phonebook={}\n",
        "  while True:\n",
        "    name=input(\"Name:\")\n",
        "    if name == \"\":\n",
        "      break\n",
        "    number=input(\"Number:\")\n",
        "    phonebook[name]=number\n",
        "  return phonebook\n",
        "\n",
        "def print_phonebook(phonebook):\n",
        "  for name in phonebook:\n",
        "    print(f\"{name} -> {phonebook[name]}\")\n",
        "\n",
        "def lookup_numbers(phonebook):\n",
        "  while True:\n",
        "    name=input(\"Enter a name to lookup :\")\n",
        "    if name == \"\":\n",
        "      break\n",
        "    if name not in phonebook:\n",
        "      print(f\"{name} is not in the phonebook\")\n",
        "    else:\n",
        "      print(phonebook[name])\n",
        "\n",
        "def phonebook():\n",
        "  phonebook=read_phone_numbers()\n",
        "  print_phonebook(phonebook)\n",
        "  lookup_numbers(phonebook)\n",
        "\n",
        "if __name__ == \"__main__\":\n",
        "  phonebook()"
      ],
      "metadata": {
        "colab": {
          "base_uri": "https://localhost:8080/"
        },
        "collapsed": true,
        "id": "KTR4wg02csqY",
        "outputId": "eff2d60d-3a7e-4a6e-bf51-c5f87a9cc4b6"
      },
      "execution_count": 5,
      "outputs": [
        {
          "name": "stdout",
          "output_type": "stream",
          "text": [
            "Name:\n",
            "Enter a name to lookup :\n"
          ]
        }
      ]
    },
    {
      "cell_type": "markdown",
      "source": [
        "# **02_pop_up_shop**"
      ],
      "metadata": {
        "id": "SExskLDVfdDc"
      }
    },
    {
      "cell_type": "code",
      "source": [
        "def pop_up_shop():\n",
        "  fruits = {'apple': 1.5, 'durian': 50, 'jackfruit': 80, 'kiwi': 1, 'rambutan': 1.5, 'mango': 5}\n",
        "  total_cost=0\n",
        "  for fruit_name in fruits:\n",
        "    price=fruits[fruit_name]\n",
        "    amount_bought=int(input(f\"how many {fruit_name} do you want to buy?\"))\n",
        "    total_cost += (price* amount_bought)\n",
        "\n",
        "  print(f\"your total is = ${total_cost}\")\n",
        "\n",
        "if __name__ == \"__main__\":\n",
        "  pop_up_shop()"
      ],
      "metadata": {
        "colab": {
          "base_uri": "https://localhost:8080/"
        },
        "collapsed": true,
        "id": "ijfzqHuDfe0C",
        "outputId": "0ca4dfa0-403d-403e-f425-a08efaf5db9d"
      },
      "execution_count": 6,
      "outputs": [
        {
          "output_type": "stream",
          "name": "stdout",
          "text": [
            "how many apple do you want to buy?7\n",
            "how many durian do you want to buy?8\n",
            "how many jackfruit do you want to buy?3\n",
            "how many kiwi do you want to buy?8\n",
            "how many rambutan do you want to buy?2\n",
            "how many mango do you want to buy?9\n",
            "your total is = $706.5\n"
          ]
        }
      ]
    },
    {
      "cell_type": "markdown",
      "source": [
        "# **03_powerful_passwords**"
      ],
      "metadata": {
        "id": "UikPu9m3h87W"
      }
    },
    {
      "cell_type": "code",
      "source": [
        "import hashlib\n",
        "from hashlib import sha256\n",
        "def hash_password(password):\n",
        "  return hashlib.sha256(password.encode()).hexdigest()\n",
        "\n",
        "stored_logins={\n",
        "    \"user1@gmail.com\":hash_password(\"password1\"),\n",
        "    \"user2@gmail.com\":hash_password(\"password2\")\n",
        "}\n",
        "def login(email,password):\n",
        "  if email in stored_logins:\n",
        "   return stored_logins[email] == hash_password(password)\n",
        "  return False\n",
        "\n",
        "if __name__ == \"__main__\":\n",
        "  email=input(\"Enter your email: \")\n",
        "  password=input(\"Enter your password: \")\n",
        "  if login(email,password):\n",
        "    print(\"Login successful\")\n",
        "  else:\n",
        "    print(\"login failed\")\n",
        "\n"
      ],
      "metadata": {
        "colab": {
          "base_uri": "https://localhost:8080/"
        },
        "id": "n0ZqpNNIh-rF",
        "outputId": "d10f22eb-96ce-4d35-9bb6-02d78ddd041d"
      },
      "execution_count": 3,
      "outputs": [
        {
          "output_type": "stream",
          "name": "stdout",
          "text": [
            "Enter your email: user1@gmail.com\n",
            "Enter your password: password1\n",
            "Login successful\n"
          ]
        }
      ]
    }
  ]
}