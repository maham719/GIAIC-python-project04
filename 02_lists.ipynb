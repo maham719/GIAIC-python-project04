{
  "nbformat": 4,
  "nbformat_minor": 0,
  "metadata": {
    "colab": {
      "provenance": [],
      "authorship_tag": "ABX9TyNageOlIzbf+6cYqEGXuN63",
      "include_colab_link": true
    },
    "kernelspec": {
      "name": "python3",
      "display_name": "Python 3"
    },
    "language_info": {
      "name": "python"
    }
  },
  "cells": [
    {
      "cell_type": "markdown",
      "metadata": {
        "id": "view-in-github",
        "colab_type": "text"
      },
      "source": [
        "<a href=\"https://colab.research.google.com/github/maham719/Project4/blob/main/02_lists.ipynb\" target=\"_parent\"><img src=\"https://colab.research.google.com/assets/colab-badge.svg\" alt=\"Open In Colab\"/></a>"
      ]
    },
    {
      "cell_type": "markdown",
      "source": [
        "# **01_add_many_number**"
      ],
      "metadata": {
        "id": "kQex4etlzgWX"
      }
    },
    {
      "cell_type": "code",
      "execution_count": null,
      "metadata": {
        "colab": {
          "base_uri": "https://localhost:8080/"
        },
        "id": "rx24iHbqrTPj",
        "outputId": "5f84d123-5a61-46ed-c37c-2bea337ca92e"
      },
      "outputs": [
        {
          "output_type": "stream",
          "name": "stdout",
          "text": [
            "30\n"
          ]
        }
      ],
      "source": [
        "def add_many_numbers(numbers)->int:\n",
        "  total:int=0\n",
        "  for number in numbers:\n",
        "    total+=number\n",
        "  return total\n",
        "\n",
        "def sum():\n",
        "  numbers:list[int]=[2,4,6,8,10]\n",
        "  sum:int=add_many_numbers(numbers)\n",
        "  print (sum)\n",
        "\n",
        "if __name__ == \"__main__\":\n",
        "  sum()\n"
      ]
    },
    {
      "cell_type": "markdown",
      "source": [
        "# **02_double_list**"
      ],
      "metadata": {
        "id": "pYyLQ6txqWEj"
      }
    },
    {
      "cell_type": "code",
      "source": [
        "def double():\n",
        "  numbers:list[int]=[1,2,3,4,5]\n",
        "  for i in range(len(numbers)):\n",
        "    elem=numbers[i]\n",
        "    numbers[i]=elem*2\n",
        "  print (numbers)\n",
        "\n",
        "if __name__ == \"__main__\":\n",
        "  double()"
      ],
      "metadata": {
        "colab": {
          "base_uri": "https://localhost:8080/"
        },
        "id": "9IcgGtyeqY2K",
        "outputId": "99fd6851-dd65-45e6-9d45-a1e2b126e058"
      },
      "execution_count": null,
      "outputs": [
        {
          "output_type": "stream",
          "name": "stdout",
          "text": [
            "[2, 4, 6, 8, 10]\n"
          ]
        }
      ]
    },
    {
      "cell_type": "markdown",
      "source": [
        "# **04_flowing_with_data_structures**"
      ],
      "metadata": {
        "id": "q-mXfORVrGIv"
      }
    },
    {
      "cell_type": "code",
      "source": [
        "def add_three_copies(my_list, data):\n",
        "    for i in range(3):\n",
        "        my_list.append(data)\n",
        "\n",
        "\n",
        "def message():\n",
        "    message = input(\"Enter a message to copy: \")\n",
        "    my_list = []\n",
        "    print(\"List before:\", my_list)\n",
        "    add_three_copies(my_list, message)\n",
        "    print(\"List after:\", my_list)\n",
        "\n",
        "if __name__ == \"__main__\":\n",
        "    message()"
      ],
      "metadata": {
        "colab": {
          "base_uri": "https://localhost:8080/"
        },
        "id": "beLn4UrS5smV",
        "outputId": "5137aa43-ee78-4bf5-ec92-bea3aecec332"
      },
      "execution_count": null,
      "outputs": [
        {
          "output_type": "stream",
          "name": "stdout",
          "text": [
            "Enter a message to copy: hello world\n",
            "List before: []\n",
            "List after: ['hello world', 'hello world', 'hello world']\n"
          ]
        }
      ]
    },
    {
      "cell_type": "markdown",
      "source": [
        "# **05_get_first_element**"
      ],
      "metadata": {
        "id": "8fnWlTIVGF2d"
      }
    },
    {
      "cell_type": "code",
      "source": [
        "def get_first_element(list):\n",
        "\n",
        "    print(\"this is a program to print the first element of the provided list\")\n",
        "    print(list[0])\n",
        "\n",
        "def get_list():\n",
        "    list=[]\n",
        "    element:str=input(\"Please enter an element of the list or press enter to stop. \")\n",
        "    while element != \"\":\n",
        "        list.append(element)\n",
        "        element = input(\"Please enter an element of the list or press enter to stop. \")\n",
        "    return list\n",
        "\n",
        "def first_element():\n",
        "    list = get_list()\n",
        "    get_first_element(list)\n",
        "\n",
        "\n",
        "\n",
        "\n",
        "if __name__ == '__main__':\n",
        "    first_element()"
      ],
      "metadata": {
        "colab": {
          "base_uri": "https://localhost:8080/"
        },
        "id": "jot9O349GHNE",
        "outputId": "18120e94-a0ff-4ffe-8cef-f0a9a9bc3498"
      },
      "execution_count": 5,
      "outputs": [
        {
          "output_type": "stream",
          "name": "stdout",
          "text": [
            "Please enter an element of the list or press enter to stop. hi\n",
            "Please enter an element of the list or press enter to stop. i am maham\n",
            "Please enter an element of the list or press enter to stop. \n",
            "this is a program to print the first element of the provided list\n",
            "hi\n"
          ]
        }
      ]
    },
    {
      "cell_type": "markdown",
      "source": [
        "# **06_get_last_element**"
      ],
      "metadata": {
        "id": "roiMYyvSJBK3"
      }
    },
    {
      "cell_type": "code",
      "source": [
        "def get_last_element(list):\n",
        "  print(\"this is a program to get the last item of the provided list\")\n",
        "  print(list[-1])\n",
        "\n",
        "def get_list():\n",
        "  list=[]\n",
        "  element:str=input(\"Please enter an element of the list or press enter to stop. \")\n",
        "  while element != \"\":\n",
        "    list.append(element)\n",
        "    element = input(\"Please enter an element of the list or press enter to stop. \")\n",
        "  return list\n",
        "\n",
        "def last_element():\n",
        "  list=get_list()\n",
        "  get_last_element(list)\n",
        "\n",
        "if __name__ == '__main__':\n",
        "  last_element()\n"
      ],
      "metadata": {
        "colab": {
          "base_uri": "https://localhost:8080/"
        },
        "id": "Y_1KOXEfJGBG",
        "outputId": "52928e45-7849-4523-b507-c1e23e7adb12"
      },
      "execution_count": 10,
      "outputs": [
        {
          "output_type": "stream",
          "name": "stdout",
          "text": [
            "Please enter an element of the list or press enter to stop. hi\n",
            "Please enter an element of the list or press enter to stop. i am maham\n",
            "Please enter an element of the list or press enter to stop. i am learning python\n",
            "Please enter an element of the list or press enter to stop. \n",
            "this is a program to get the last item of the provided list\n",
            "i am learning python\n"
          ]
        }
      ]
    },
    {
      "cell_type": "markdown",
      "source": [
        "# **07_get_list**"
      ],
      "metadata": {
        "id": "9mUOtko4KHwI"
      }
    },
    {
      "cell_type": "code",
      "source": [
        "from os import removexattr\n",
        "def get_list():\n",
        "  list:str=[]\n",
        "  val:str=input(\"Please enter a value:\")\n",
        "  while val:\n",
        "    list.append(val)\n",
        "    val = input(\"Please enter a value: \")\n",
        "\n",
        "  print(\"Here's the list:\", list)\n",
        "\n",
        "if __name__ == '__main__':\n",
        "  get_list()"
      ],
      "metadata": {
        "colab": {
          "base_uri": "https://localhost:8080/"
        },
        "id": "Tndl5AswKMcM",
        "outputId": "25e6210b-14d8-42d3-8c2d-fe30be57c909"
      },
      "execution_count": 13,
      "outputs": [
        {
          "output_type": "stream",
          "name": "stdout",
          "text": [
            "Please enter a value:hi \n",
            "Please enter a value: hello world\n",
            "Please enter a value: i am maham\n",
            "Please enter a value: i am learning python\n",
            "Please enter a value: \n",
            "Here's the list: ['hi ', 'hello world', 'i am maham', 'i am learning python']\n"
          ]
        }
      ]
    },
    {
      "cell_type": "markdown",
      "source": [
        "# **08_shorten**"
      ],
      "metadata": {
        "id": "NQ8DwpXdeMvS"
      }
    },
    {
      "cell_type": "code",
      "source": [
        "max_legth:int=3\n",
        "def shorten(list):\n",
        "  while len(list) >= max_legth:\n",
        "    last_elem=list.pop()\n",
        "    print(last_elem)\n",
        "\n",
        "def get_list():\n",
        "  list=[]\n",
        "  element=input(\"Please enter an element to add to the list :\")\n",
        "  while element != \"\":\n",
        "    list.append(element)\n",
        "    element=input(\"Please enter an element to add to the list or press enter to stop :\")\n",
        "  return list\n",
        "\n",
        "def shorten_list():\n",
        "  list=get_list()\n",
        "  shorten(list)\n",
        "\n",
        "if __name__ == '__main__':\n",
        "  shorten_list()\n",
        ""
      ],
      "metadata": {
        "colab": {
          "base_uri": "https://localhost:8080/"
        },
        "id": "xtYSG9useQ4a",
        "outputId": "14b5ac04-bb3b-4a69-b815-4abe4ae322b7"
      },
      "execution_count": 17,
      "outputs": [
        {
          "output_type": "stream",
          "name": "stdout",
          "text": [
            "Please enter an element to add to the list :h\n",
            "Please enter an element to add to the list or press enter to stop :i\n",
            "Please enter an element to add to the list or press enter to stop :i\n",
            "Please enter an element to add to the list or press enter to stop :a\n",
            "Please enter an element to add to the list or press enter to stop :m\n",
            "Please enter an element to add to the list or press enter to stop :m\n",
            "Please enter an element to add to the list or press enter to stop :a\n",
            "Please enter an element to add to the list or press enter to stop :h\n",
            "Please enter an element to add to the list or press enter to stop :a\n",
            "Please enter an element to add to the list or press enter to stop :m\n",
            "Please enter an element to add to the list or press enter to stop :\n",
            "m\n",
            "a\n",
            "h\n",
            "a\n",
            "m\n",
            "m\n",
            "a\n"
          ]
        }
      ]
    }
  ]
}