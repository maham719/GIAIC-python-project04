{
  "nbformat": 4,
  "nbformat_minor": 0,
  "metadata": {
    "colab": {
      "provenance": [],
      "authorship_tag": "ABX9TyOWElMJYxWTsakv0P0ieNEP",
      "include_colab_link": true
    },
    "kernelspec": {
      "name": "python3",
      "display_name": "Python 3"
    },
    "language_info": {
      "name": "python"
    }
  },
  "cells": [
    {
      "cell_type": "markdown",
      "metadata": {
        "id": "view-in-github",
        "colab_type": "text"
      },
      "source": [
        "<a href=\"https://colab.research.google.com/github/maham719/GIAIC-python-project04/blob/main/Password_Generator_Python_Project.ipynb\" target=\"_parent\"><img src=\"https://colab.research.google.com/assets/colab-badge.svg\" alt=\"Open In Colab\"/></a>"
      ]
    },
    {
      "cell_type": "code",
      "execution_count": 5,
      "metadata": {
        "colab": {
          "base_uri": "https://localhost:8080/"
        },
        "id": "ZxGjZfZqa7iG",
        "outputId": "44efc648-af89-4529-bed7-42b4bf310e11"
      },
      "outputs": [
        {
          "output_type": "stream",
          "name": "stdout",
          "text": [
            "How many passwords do you want to generate?5\n",
            "How long do you want your password to be?8\n",
            "\n",
            " here are your passwords: \n",
            "%%(NFK)n\n",
            "FLl9w7GM\n",
            "nhWRY1A3\n",
            "pR!AYv7C\n",
            "zmU!zIyU\n"
          ]
        }
      ],
      "source": [
        "import random\n",
        "chars='abcdefghijklmnopqrstuvwxyzABCDEFGHIJKLMNOPQRSTUVWXYZ!@#$%^&*()1234567890'\n",
        "number=input(\"How many passwords do you want to generate?\")\n",
        "number=int(number)\n",
        "length=input(\"How long do you want your password to be?\")\n",
        "length=int(length)\n",
        "print(\"\\n here are your passwords: \")\n",
        "for pwd in range(number):\n",
        "  passwords=\"\"\n",
        "  for c in range(length):\n",
        "    passwords+=random.choice(chars)\n",
        "  print(passwords)\n",
        "\n"
      ]
    }
  ]
}