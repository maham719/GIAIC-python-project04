{
  "nbformat": 4,
  "nbformat_minor": 0,
  "metadata": {
    "colab": {
      "provenance": [],
      "authorship_tag": "ABX9TyM/Ll+d1WgOV5Qgsj8ULuzb",
      "include_colab_link": true
    },
    "kernelspec": {
      "name": "python3",
      "display_name": "Python 3"
    },
    "language_info": {
      "name": "python"
    }
  },
  "cells": [
    {
      "cell_type": "markdown",
      "metadata": {
        "id": "view-in-github",
        "colab_type": "text"
      },
      "source": [
        "<a href=\"https://colab.research.google.com/github/maham719/Project4/blob/main/Mad_libs_Python_Project.ipynb\" target=\"_parent\"><img src=\"https://colab.research.google.com/assets/colab-badge.svg\" alt=\"Open In Colab\"/></a>"
      ]
    },
    {
      "cell_type": "code",
      "execution_count": 3,
      "metadata": {
        "colab": {
          "base_uri": "https://localhost:8080/"
        },
        "collapsed": true,
        "id": "WGxqKm3Plt8y",
        "outputId": "47cbc228-551a-4211-fc8f-85141f553418"
      },
      "outputs": [
        {
          "output_type": "stream",
          "name": "stdout",
          "text": [
            "madlibs project input random stuff to make a funny story \n",
            "enter name of a person :tom\n",
            "enter an adjective :down\n",
            "enter name of placeparis\n",
            "enter an object name :comb\n",
            "enter name of a food item :biryani\n",
            "enter name of a silly object :fire cracker\n",
            "enter name of an animal :cat\n",
            "enter a verb ending in ing :dancing\n",
            "enter an adjective :amazing\n",
            "enter name of a mystical creature :werewolf\n",
            "enter name of a random object :charger\n",
            "enter name of a weird substance :slime\n",
            "enter a verb :drive\n",
            "enter name of a celebrity :tom cruise\n",
            "enter name of a body part :finger\n",
            "enter name of a houshold item :spoon\n",
            "enter name of a random activity :skydiving\n",
            "enter name of another random activity :horse riding\n",
            "enter name of a funny object :rubber duck\n",
            "The uunexpected adventure\n",
            "One day, tom woke up feeling down. They decided to go on an adventure to paris.\n",
            " Before leaving, they packed a (comb, a biryani, and, of course, their lucky fire cracker.\n",
            " When they arrived, they saw a cat doing dancing in the middle of the street! \"Wow, that\\’s the most amazing thing I’ve ever seen!\" they shouted.\n",
            " Suddenly, a werewolf appeared and handed them a charger. \"Use this wisely,\" it said mysteriously before disappearing in a cloud of slime. \n",
            " Not knowing what to do, tom decided to drive. But before they could, a tom cruise ran up to them, yelling, \"Help! My finger is stuck in a spoon! \n",
            " After a long day of skydiving and horse riding, they finally made it home, only to realize they had left their rubber duck behind!  \n"
          ]
        }
      ],
      "source": [
        "print(\"madlibs project input random stuff to make a funny story \" )\n",
        "name=input(\"enter name of a person :\")\n",
        "adjective1=input(\"enter an adjective :\")\n",
        "place=input(\"enter name of place\")\n",
        "objectname=input(\"enter an object name :\")\n",
        "food_item=input(\"enter name of a food item :\")\n",
        "silly_object=input(\"enter name of a silly object :\")\n",
        "animal=input(\"enter name of an animal :\")\n",
        "verb1=input(\"enter a verb ending in ing :\")\n",
        "adjective2=input(\"enter an adjective :\")\n",
        "mystical_creature=input(\"enter name of a mystical creature :\")\n",
        "random_object=input(\"enter name of a random object :\")\n",
        "weird_substance=input(\"enter name of a weird substance :\")\n",
        "verb2=input(\"enter a verb :\")\n",
        "celebrity_name=input(\"enter name of a celebrity :\")\n",
        "body_part=input(\"enter name of a body part :\")\n",
        "household_item=input(\"enter name of a houshold item :\")\n",
        "random_activity=input(\"enter name of a random activity :\")\n",
        "another_random_activity=input(\"enter name of another random activity :\")\n",
        "funny_object=input(\"enter name of a funny object :\")\n",
        "\n",
        "\n",
        "print(\"The uunexpected adventure\")\n",
        "print(f\"One day, {name} woke up feeling {adjective1}. They decided to go on an adventure to {place}.\\n Before leaving, they packed a {objectname}, a {food_item}, and, of course, their lucky {silly_object}.\\n When they arrived, they saw a {animal}  {verb1} in the middle of the street! \\\"Wow, that\\'s the most {adjective2} thing I’ve ever seen!\\\" they shouted.\\n Suddenly, a {mystical_creature} appeared and handed them a {random_object}. \\\"Use this wisely,\\\" it said mysteriously before disappearing in a cloud of {weird_substance}. \\n Not knowing what to do, {name} decided to {verb2}. But before they could, {celebrity_name} ran up to them, yelling, \\\"Help! My {body_part} is stuck in a {household_item}! \\n After a long day of {random_activity} and {another_random_activity}, they finally made it home, only to realize they had left their {funny_object} behind!  \")"
      ]
    }
  ]
}