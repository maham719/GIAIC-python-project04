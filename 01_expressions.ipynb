{
  "nbformat": 4,
  "nbformat_minor": 0,
  "metadata": {
    "colab": {
      "provenance": [],
      "authorship_tag": "ABX9TyOd6Mq9YL/s1oOCN1rpy5iF",
      "include_colab_link": true
    },
    "kernelspec": {
      "name": "python3",
      "display_name": "Python 3"
    },
    "language_info": {
      "name": "python"
    }
  },
  "cells": [
    {
      "cell_type": "markdown",
      "metadata": {
        "id": "view-in-github",
        "colab_type": "text"
      },
      "source": [
        "<a href=\"https://colab.research.google.com/github/maham719/Project4/blob/main/01_expressions.ipynb\" target=\"_parent\"><img src=\"https://colab.research.google.com/assets/colab-badge.svg\" alt=\"Open In Colab\"/></a>"
      ]
    },
    {
      "cell_type": "markdown",
      "source": [
        "# **01_dicesimulator**"
      ],
      "metadata": {
        "id": "rLbSpNjHWYgD"
      }
    },
    {
      "cell_type": "code",
      "execution_count": 7,
      "metadata": {
        "colab": {
          "base_uri": "https://localhost:8080/"
        },
        "id": "CU29cbckWTIb",
        "outputId": "84823571-0092-4f2a-e7ba-30ba5d50123a"
      },
      "outputs": [
        {
          "output_type": "stream",
          "name": "stdout",
          "text": [
            "die1 in main() starts as: 10\n",
            "Total of two dice: 5\n",
            "Total of two dice: 5\n",
            "Total of two dice: 7\n",
            "die1 in main() is: 10\n"
          ]
        }
      ],
      "source": [
        "import random\n",
        "def roll_dice():\n",
        "  die1: int = random.randint(1, 6)\n",
        "  die2: int = random.randint(1, 6)\n",
        "  total: int = die1 + die2\n",
        "  print(\"Total of two dice:\", total)\n",
        "\n",
        "\n",
        "def main():\n",
        "    die1: int = 10\n",
        "    print(\"die1 in main() starts as: \" + str(die1))\n",
        "    roll_dice()\n",
        "    roll_dice()\n",
        "    roll_dice()\n",
        "    print(\"die1 in main() is: \" + str(die1))\n",
        "\n",
        "if __name__ == '__main__':\n",
        "    main()"
      ]
    },
    {
      "cell_type": "markdown",
      "source": [
        "# **02_e=mc2**"
      ],
      "metadata": {
        "id": "SUsCjp7fZcdS"
      }
    },
    {
      "cell_type": "code",
      "source": [
        "def energy():\n",
        "  C: int = 299792458\n",
        "  M:float=float(input(\"Enter mass in kilograms:\"))\n",
        "  E:float = M * (C ** 2)\n",
        "  print(\"e = m * C^2...\")\n",
        "  print(\"m = \" + str(M) + \" kg\")\n",
        "  print(\"C = \" + str(C) + \" m/s\")\n",
        "  print(str(E) + \" joules of energy!\")\n",
        "\n",
        "if __name__ == '__main__':\n",
        "    energy()\n"
      ],
      "metadata": {
        "colab": {
          "base_uri": "https://localhost:8080/"
        },
        "id": "yW9MgR1KZfA6",
        "outputId": "3c874cf7-121b-4e21-d514-43351d721686"
      },
      "execution_count": 11,
      "outputs": [
        {
          "output_type": "stream",
          "name": "stdout",
          "text": [
            "Enter mass in kilograms:100\n",
            "e = m * C^2...\n",
            "m = 100.0 kg\n",
            "C = 299792458 m/s\n",
            "8.987551787368176e+18 joules of energy!\n"
          ]
        }
      ]
    },
    {
      "cell_type": "markdown",
      "source": [
        "# **03_feet_to_inches**"
      ],
      "metadata": {
        "id": "FGeKinGch61c"
      }
    },
    {
      "cell_type": "code",
      "source": [
        "def feet_to_inches():\n",
        "  inches_in_foot:int=12\n",
        "  feet:float=float(input(\"Enter number of feet:\"))\n",
        "  inches:float=feet*inches_in_foot\n",
        "  print(\"That is\", inches, \"inches!\")\n",
        "\n",
        "if __name__ == '__main__':\n",
        "    feet_to_inches()"
      ],
      "metadata": {
        "colab": {
          "base_uri": "https://localhost:8080/"
        },
        "id": "6vNs09Nch9Lj",
        "outputId": "a30e51a5-02a3-4cfb-e351-a6378e182434"
      },
      "execution_count": 12,
      "outputs": [
        {
          "output_type": "stream",
          "name": "stdout",
          "text": [
            "Enter number of feet:12\n",
            "That is 144.0 inches!\n"
          ]
        }
      ]
    },
    {
      "cell_type": "markdown",
      "source": [
        "# **04_pythagorean_theorem**"
      ],
      "metadata": {
        "id": "6JfvtRiGi0kb"
      }
    },
    {
      "cell_type": "code",
      "source": [
        "import math\n",
        "\n",
        "def pythagorean_theorem():\n",
        "   ab: float = float(input(\"Enter the length of AB: \"))\n",
        "   ac: float = float(input(\"Enter the length of AC: \"))\n",
        "   bc:float=math.sqrt(ab**2 + ac**2)\n",
        "   print(\"the length of the hypotenuse/BC is = \" + str(bc))\n",
        "\n",
        "if __name__ == '__main__':\n",
        "    pythagorean_theorem()"
      ],
      "metadata": {
        "colab": {
          "base_uri": "https://localhost:8080/"
        },
        "id": "JxxzOZzsi2fS",
        "outputId": "28d18019-a406-4088-fd4d-6f8c4521e1fe"
      },
      "execution_count": 13,
      "outputs": [
        {
          "output_type": "stream",
          "name": "stdout",
          "text": [
            "Enter the length of AB: 5\n",
            "Enter the length of AC: 4\n",
            "the length of the hypotenuse/BC is = 6.4031242374328485\n"
          ]
        }
      ]
    },
    {
      "cell_type": "markdown",
      "source": [
        "# **05_remainder_division**"
      ],
      "metadata": {
        "id": "NPV2wqeslhNp"
      }
    },
    {
      "cell_type": "code",
      "source": [
        "from __future__ import division\n",
        "def division():\n",
        "  dividend:int=int(input(\"Enter the dividend:\"))\n",
        "  divisor:int=int(input(\"Enter the divisor:\"))\n",
        "  quotient:int=dividend//divisor\n",
        "  remainder:int=dividend%divisor\n",
        "  print(\"The result of this division is \" + str(quotient) + \" with a remainder of \" + str(remainder))\n",
        "\n",
        "if __name__ == '__main__':\n",
        "    division()"
      ],
      "metadata": {
        "colab": {
          "base_uri": "https://localhost:8080/"
        },
        "id": "W666FTiCljYY",
        "outputId": "fc00cd63-b25f-4858-bb32-fd4c6c7d29f0"
      },
      "execution_count": 16,
      "outputs": [
        {
          "output_type": "stream",
          "name": "stdout",
          "text": [
            "Enter the dividend:8\n",
            "Enter the divisor:2\n",
            "The result of this division is 4 with a remainder of 0\n"
          ]
        }
      ]
    },
    {
      "cell_type": "markdown",
      "source": [
        "# **06_rolldice**"
      ],
      "metadata": {
        "id": "TVtke2dgmg5R"
      }
    },
    {
      "cell_type": "code",
      "source": [
        "import random\n",
        "def roll():\n",
        "  NUM_SIDES: int = 6\n",
        "  die1:int=random.randint(1,NUM_SIDES)\n",
        "  die2:int=random.randint(1,NUM_SIDES)\n",
        "  total:int=die1+die2\n",
        "\n",
        "  print(\"Dice have\", NUM_SIDES, \"sides each.\")\n",
        "  print(\"First die:\", die1)\n",
        "  print(\"Second die:\", die2)\n",
        "  print(\"Total of two dice:\", total)\n",
        "\n",
        "if __name__ == '__main__':\n",
        "    roll()"
      ],
      "metadata": {
        "colab": {
          "base_uri": "https://localhost:8080/"
        },
        "id": "p-5ppnk0miQ_",
        "outputId": "1fc163a3-b2a1-40c4-bae3-fe5df17decfb"
      },
      "execution_count": 17,
      "outputs": [
        {
          "output_type": "stream",
          "name": "stdout",
          "text": [
            "Dice have 6 sides each.\n",
            "First die: 4\n",
            "Second die: 3\n",
            "Total of two dice: 7\n"
          ]
        }
      ]
    },
    {
      "cell_type": "markdown",
      "source": [
        "# **07_seconds_in_year**"
      ],
      "metadata": {
        "id": "gwQmHtPXn2nw"
      }
    },
    {
      "cell_type": "code",
      "source": [
        "def seconds_in_year():\n",
        "  days_per_year:int=365\n",
        "  hours_per_day:int=24\n",
        "  minutes_per_hour:int=60\n",
        "  seconds_per_minute:int=60\n",
        "  print(\"There are \" + str(days_per_year * hours_per_day * minutes_per_hour * seconds_per_minute) + \" seconds in a year!\")\n",
        "\n",
        "\n",
        "if __name__ == '__main__':\n",
        "    seconds_in_year()"
      ],
      "metadata": {
        "colab": {
          "base_uri": "https://localhost:8080/"
        },
        "id": "0RET438Qn4EQ",
        "outputId": "d1a0a57d-0bd3-4c22-a521-37a640a3f738"
      },
      "execution_count": 18,
      "outputs": [
        {
          "output_type": "stream",
          "name": "stdout",
          "text": [
            "There are 31536000 seconds in a year!\n"
          ]
        }
      ]
    },
    {
      "cell_type": "markdown",
      "source": [
        "# **07_tiny_mad_lib**"
      ],
      "metadata": {
        "id": "io48auovpHee"
      }
    },
    {
      "cell_type": "code",
      "source": [
        "def mad_lib():\n",
        "  SENTENCE_START: str = \"Panaversity is fun. I learned to program and used Python to make my \"\n",
        "  adjective:str=input(\"Enter an adjective :\")\n",
        "  noun:str=input(\"Enter a noun :\")\n",
        "  verb:str=input(\"Enter a verb : \")\n",
        "  print(f\"{SENTENCE_START} {adjective} {noun} {verb}\")\n",
        "\n",
        "if __name__ == '__main__':\n",
        "    mad_lib()\n"
      ],
      "metadata": {
        "colab": {
          "base_uri": "https://localhost:8080/"
        },
        "id": "S_yz6_LFpWpG",
        "outputId": "29408e70-2542-410f-8b1e-0f3898131657"
      },
      "execution_count": 20,
      "outputs": [
        {
          "output_type": "stream",
          "name": "stdout",
          "text": [
            "Enter an adjective :small\n",
            "Enter a noun :cat\n",
            "Enter a verb : run\n",
            "Panaversity is fun. I learned to program and used Python to make my  small cat run\n"
          ]
        }
      ]
    }
  ]
}